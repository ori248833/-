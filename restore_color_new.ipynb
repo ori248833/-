{
 "cells": [
  {
   "cell_type": "code",
   "execution_count": 1,
   "id": "4d87c268",
   "metadata": {},
   "outputs": [
    {
     "name": "stdout",
     "output_type": "stream",
     "text": [
      "Requirement already satisfied: pillow==11.2.1 in c:\\users\\h12838\\anaconda3\\envs\\mtcnn_env\\lib\\site-packages (11.2.1)\n",
      "Note: you may need to restart the kernel to use updated packages.\n",
      "Requirement already satisfied: tqdm==4.67.1 in c:\\users\\h12838\\anaconda3\\envs\\mtcnn_env\\lib\\site-packages (4.67.1)\n",
      "Requirement already satisfied: colorama in c:\\users\\h12838\\anaconda3\\envs\\mtcnn_env\\lib\\site-packages (from tqdm==4.67.1) (0.4.6)\n",
      "Note: you may need to restart the kernel to use updated packages.\n"
     ]
    }
   ],
   "source": [
    "%pip install pillow==11.2.1\n",
    "%pip install tqdm==4.67.1"
   ]
  },
  {
   "cell_type": "code",
   "execution_count": 2,
   "id": "c59e2d4f",
   "metadata": {},
   "outputs": [],
   "source": [
    "import os\n",
    "import cv2\n",
    "from tqdm import tqdm\n",
    "from PIL import Image, ImageOps, ImageEnhance"
   ]
  },
  {
   "cell_type": "code",
   "execution_count": 3,
   "id": "17363915",
   "metadata": {},
   "outputs": [
    {
     "data": {
      "text/plain": [
       "'c:\\\\Users\\\\H12838\\\\Desktop\\\\dataset'"
      ]
     },
     "execution_count": 3,
     "metadata": {},
     "output_type": "execute_result"
    }
   ],
   "source": [
    "os.getcwd()"
   ]
  },
  {
   "cell_type": "code",
   "execution_count": 4,
   "id": "7b8e0020",
   "metadata": {},
   "outputs": [],
   "source": [
    "prefix = os.path.abspath(r'')\n",
    "aug_source_root = rf\"{prefix}\\img_cropped_restored\"\n",
    "aug_output_root = rf\"{prefix}\\img_cropped_augmented\"\n",
    "restored_input_root = rf\"{prefix}\\img_cropped\"                # 裁剪错色的图像目录\n",
    "restored_output_root = rf\"{prefix}\\img_cropped_restored\"      # 恢复后输出目录"
   ]
  },
  {
   "cell_type": "code",
   "execution_count": 5,
   "id": "048ccd77",
   "metadata": {},
   "outputs": [],
   "source": [
    "w = 100 # 要resize的图片的宽度\n",
    "h = 100 # 要resize的图片的高度"
   ]
  },
  {
   "cell_type": "code",
   "execution_count": 6,
   "id": "464dbe18",
   "metadata": {},
   "outputs": [],
   "source": [
    "def safe_open_image(path):\n",
    "    try:\n",
    "        return Image.open(path).convert(\"RGB\")\n",
    "    except Exception as e:\n",
    "        print(f\"❌ 无法打开 {path}: {e}\")\n",
    "        return None\n",
    "    \n",
    "    # 不反色，只做亮度 + 对比度 + 翻转\n",
    "def natural_augment(img):\n",
    "    img = ImageEnhance.Brightness(img).enhance(1.2)     # 稍微提亮\n",
    "    img = ImageEnhance.Contrast(img).enhance(1.3)       # 增强边缘\n",
    "    img = ImageOps.mirror(img)                          # 水平翻转\n",
    "    return img"
   ]
  },
  {
   "cell_type": "code",
   "execution_count": 13,
   "id": "58ae2eb6",
   "metadata": {},
   "outputs": [],
   "source": [
    "def image_resizer(source_path, save_path, height, width): # height: 垂直高度，width: 水平寬度，(height, width) = 圖片處理後的大小\n",
    "\n",
    "    image = cv2.imread(source_path)\n",
    "    size = image.shape # 原圖的尺寸\n",
    "    h = size[0]\n",
    "    w = size[1]\n",
    "\n",
    "    if h / w > 1: # 高度大於寬度\n",
    "        rate = height / h\n",
    "    elif w / h == 1: # 正方形\n",
    "        rate = height / h\n",
    "    elif 0 < h / w < 1: # 高度小於寬度\n",
    "        rate = width / h\n",
    "    else:\n",
    "        print(f'錯誤')\n",
    "\n",
    "    # print(f'{source_path}\\n({w}, {h}) -> ({w * rate}, {h * rate})')\n",
    "    if rate > 1:\n",
    "        new_image = cv2.resize(image, (round(w * rate), round(h * rate)), interpolation=cv2.INTER_CUBIC)\n",
    "        if h / w > 1:\n",
    "            save_image = cv2.copyMakeBorder(new_image, 0, 0, 0, width - round(w * rate), cv2.BORDER_CONSTANT,value=[0,0,0])\n",
    "        elif h / w ==1:\n",
    "            save_image = new_image\n",
    "        elif 0 < h / w < 1:\n",
    "            save_image = cv2.copyMakeBorder(new_image, 0, height - round(h * rate), 0, 0, cv2.BORDER_CONSTANT,value=[0,0,0])\n",
    "\n",
    "        cv2.imwrite(save_path, save_image)\n",
    "\n",
    "    elif rate < 1:\n",
    "        new_image = cv2.resize(image, (round(w * rate), round(h*rate)), interpolation=cv2.INTER_AREA)\n",
    "        if h / w > 1:\n",
    "            save_image = cv2.copyMakeBorder(new_image, 0, 0, 0, width - round(w * rate), cv2.BORDER_CONSTANT,value=[0,0,0])\n",
    "\n",
    "        elif h / w ==1:\n",
    "            save_image = new_image\n",
    "\n",
    "        elif 0 < h / w < 1:\n",
    "            save_image = cv2.copyMakeBorder(new_image, 0, height - round(h * rate), 0, 0, cv2.BORDER_CONSTANT,value=[0,0,0])\n",
    "\n",
    "        cv2.imwrite(save_path, save_image)"
   ]
  },
  {
   "cell_type": "markdown",
   "id": "5d92b726",
   "metadata": {},
   "source": [
    "#### 反色恢复"
   ]
  },
  {
   "cell_type": "code",
   "execution_count": 8,
   "id": "1736a981",
   "metadata": {},
   "outputs": [
    {
     "name": "stderr",
     "output_type": "stream",
     "text": [
      "Restoring angry: 100%|██████████| 7034/7034 [00:04<00:00, 1740.04it/s]\n",
      "Restoring disgust: 100%|██████████| 3894/3894 [00:01<00:00, 2040.84it/s]\n",
      "Restoring fear: 100%|██████████| 4338/4338 [00:02<00:00, 1867.01it/s]\n",
      "Restoring happy: 100%|██████████| 34768/34768 [00:19<00:00, 1768.28it/s]\n",
      "Restoring neutral: 100%|██████████| 35723/35723 [00:19<00:00, 1838.90it/s]\n",
      "Restoring sad: 100%|██████████| 13199/13199 [00:06<00:00, 2011.36it/s]\n",
      "Restoring surprise: 100%|██████████| 8788/8788 [00:04<00:00, 2041.97it/s]\n"
     ]
    }
   ],
   "source": [
    "os.makedirs(restored_output_root, exist_ok=True)\n",
    "for emotion in os.listdir(restored_input_root):\n",
    "    src_dir = os.path.join(restored_input_root, emotion)\n",
    "    dst_dir = os.path.join(restored_output_root, emotion)\n",
    "    os.makedirs(dst_dir, exist_ok=True)\n",
    "    for fname in tqdm(os.listdir(src_dir), desc=f\"Restoring {emotion}\"):\n",
    "        img_path = os.path.join(src_dir, fname)\n",
    "        img = cv2.imread(img_path)\n",
    "        if img is None:\n",
    "            continue\n",
    "        restored = cv2.cvtColor(img, cv2.COLOR_RGB2BGR)  # 反转颜色通道\n",
    "        cv2.imwrite(os.path.join(dst_dir, fname), restored)\n"
   ]
  },
  {
   "cell_type": "markdown",
   "id": "02fb155c",
   "metadata": {},
   "source": [
    "#### 数据增强 + resize"
   ]
  },
  {
   "cell_type": "code",
   "execution_count": 9,
   "id": "0a8b131d",
   "metadata": {},
   "outputs": [],
   "source": [
    "os.makedirs(aug_output_root, exist_ok=True)\n",
    "for emotion in os.listdir(aug_source_root):\n",
    "    os.makedirs(os.path.join(aug_output_root, emotion), exist_ok=True)"
   ]
  },
  {
   "cell_type": "code",
   "execution_count": 14,
   "id": "4e839c00",
   "metadata": {},
   "outputs": [
    {
     "name": "stderr",
     "output_type": "stream",
     "text": [
      "Processing angry: 100%|██████████| 7034/7034 [00:53<00:00, 132.68it/s]\n",
      "Processing disgust: 100%|██████████| 3894/3894 [00:32<00:00, 121.00it/s]\n",
      "Processing fear: 100%|██████████| 4338/4338 [00:27<00:00, 157.74it/s]\n",
      "Processing happy: 100%|██████████| 34768/34768 [05:41<00:00, 101.89it/s]\n",
      "Processing neutral: 100%|██████████| 35723/35723 [10:12<00:00, 58.37it/s]\n",
      "Processing sad: 100%|██████████| 13199/13199 [04:53<00:00, 45.03it/s]\n",
      "Processing surprise: 100%|██████████| 8788/8788 [32:17<00:00,  4.54it/s]   \n"
     ]
    }
   ],
   "source": [
    "for emotion in os.listdir(aug_source_root):\n",
    "    src_dir = os.path.join(aug_source_root, emotion)\n",
    "    dst_dir = os.path.join(aug_output_root, emotion)\n",
    "    for fname in tqdm(os.listdir(src_dir), desc=f\"Processing {emotion}\"):\n",
    "        fpath = os.path.join(src_dir, fname)\n",
    "        img = safe_open_image(fpath)\n",
    "        if img is None:\n",
    "            continue\n",
    "        aug = natural_augment(img)\n",
    "        base, ext = os.path.splitext(fname)\n",
    "        aug.save(os.path.join(dst_dir, f\"{base}_aug{ext}\"))\n",
    "        image_resizer(\n",
    "    os.path.join(dst_dir, f\"{base}_aug{ext}\"),\n",
    "    os.path.join(dst_dir, f\"{base}_aug{ext}\"),\n",
    "    h,\n",
    "    w\n",
    ")"
   ]
  }
 ],
 "metadata": {
  "kernelspec": {
   "display_name": "mtcnn_env",
   "language": "python",
   "name": "python3"
  },
  "language_info": {
   "codemirror_mode": {
    "name": "ipython",
    "version": 3
   },
   "file_extension": ".py",
   "mimetype": "text/x-python",
   "name": "python",
   "nbconvert_exporter": "python",
   "pygments_lexer": "ipython3",
   "version": "3.10.16"
  }
 },
 "nbformat": 4,
 "nbformat_minor": 5
}
